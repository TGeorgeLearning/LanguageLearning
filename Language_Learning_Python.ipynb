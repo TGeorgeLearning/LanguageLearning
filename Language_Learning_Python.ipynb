{
  "nbformat": 4,
  "nbformat_minor": 0,
  "metadata": {
    "colab": {
      "provenance": []
    },
    "kernelspec": {
      "name": "python3",
      "display_name": "Python 3"
    },
    "language_info": {
      "name": "python"
    }
  },
  "cells": [
    {
      "cell_type": "code",
      "source": [
        "import nltk\n",
        "nltk.download('words')\n",
        "from nltk.corpus import words\n",
        "\n",
        "listwords = words.words()\n",
        "print(listwords[0])\n"
      ],
      "metadata": {
        "id": "tJQnPxWWnwBb",
        "colab": {
          "base_uri": "https://localhost:8080/"
        },
        "outputId": "3e36dede-dbdc-4083-ddef-7424f63020df"
      },
      "execution_count": null,
      "outputs": [
        {
          "output_type": "stream",
          "name": "stdout",
          "text": [
            "A\n"
          ]
        },
        {
          "output_type": "stream",
          "name": "stderr",
          "text": [
            "[nltk_data] Downloading package words to /root/nltk_data...\n",
            "[nltk_data]   Package words is already up-to-date!\n"
          ]
        }
      ]
    },
    {
      "cell_type": "code",
      "source": [
        "!pip install translate\n",
        "from translate import Translator\n",
        "\n",
        "translator = Translator(to_lang='es')\n",
        "\n",
        "translation = translator.translate('go')\n",
        "print(translation)\n"
      ],
      "metadata": {
        "id": "c8yRhsICcqO8",
        "colab": {
          "base_uri": "https://localhost:8080/"
        },
        "outputId": "4a84dc54-d74d-4596-eba6-ca72e40b3654"
      },
      "execution_count": null,
      "outputs": [
        {
          "output_type": "stream",
          "name": "stdout",
          "text": [
            "Requirement already satisfied: translate in /usr/local/lib/python3.10/dist-packages (3.6.1)\n",
            "Requirement already satisfied: click in /usr/local/lib/python3.10/dist-packages (from translate) (8.1.6)\n",
            "Requirement already satisfied: lxml in /usr/local/lib/python3.10/dist-packages (from translate) (4.9.3)\n",
            "Requirement already satisfied: requests in /usr/local/lib/python3.10/dist-packages (from translate) (2.31.0)\n",
            "Requirement already satisfied: libretranslatepy==2.1.1 in /usr/local/lib/python3.10/dist-packages (from translate) (2.1.1)\n",
            "Requirement already satisfied: charset-normalizer<4,>=2 in /usr/local/lib/python3.10/dist-packages (from requests->translate) (3.2.0)\n",
            "Requirement already satisfied: idna<4,>=2.5 in /usr/local/lib/python3.10/dist-packages (from requests->translate) (3.4)\n",
            "Requirement already satisfied: urllib3<3,>=1.21.1 in /usr/local/lib/python3.10/dist-packages (from requests->translate) (2.0.4)\n",
            "Requirement already satisfied: certifi>=2017.4.17 in /usr/local/lib/python3.10/dist-packages (from requests->translate) (2023.7.22)\n",
            "ir\n"
          ]
        }
      ]
    },
    {
      "cell_type": "code",
      "source": [
        "import random\n",
        "x=(random.randrange(0,len(listwords)-1))\n",
        "print(x)\n",
        "print(listwords[x])"
      ],
      "metadata": {
        "id": "eUd5Quwbo_qa",
        "colab": {
          "base_uri": "https://localhost:8080/"
        },
        "outputId": "1b5146b4-37ee-4667-d7f9-9992345c7802"
      },
      "execution_count": null,
      "outputs": [
        {
          "output_type": "stream",
          "name": "stdout",
          "text": [
            "132559\n",
            "orthostatic\n"
          ]
        }
      ]
    },
    {
      "cell_type": "code",
      "source": [
        "   print(\"Translate the random word into English: \" + translator.translate(listwords[x]))\n",
        "   user=input(\"Enter the answer: \")\n",
        "   if (user==listwords[x]):\n",
        "     print(\"good job\")"
      ],
      "metadata": {
        "id": "9unIe3IjqDu8",
        "colab": {
          "base_uri": "https://localhost:8080/"
        },
        "outputId": "537b22e1-d0c4-48a5-f1fa-cd2ecc4411d3"
      },
      "execution_count": null,
      "outputs": [
        {
          "output_type": "stream",
          "name": "stdout",
          "text": [
            "Translate the random word into English: ortostática,\n",
            "Enter the answer: orthostatic\n",
            "good job\n"
          ]
        }
      ]
    }
  ]
}